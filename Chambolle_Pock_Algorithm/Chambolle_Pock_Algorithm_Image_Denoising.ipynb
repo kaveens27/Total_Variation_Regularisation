{
 "cells": [
  {
   "cell_type": "markdown",
   "id": "34bfaaf4",
   "metadata": {},
   "source": [
    "# Chambolle-Pock Algorithm (Finding The Optimal Alpha Value)"
   ]
  },
  {
   "cell_type": "markdown",
   "id": "d2b10e1f",
   "metadata": {},
   "source": [
    "### Import All Necessary Libraries"
   ]
  },
  {
   "cell_type": "code",
   "execution_count": 1,
   "id": "fe64aa7e",
   "metadata": {},
   "outputs": [
    {
     "name": "stdout",
     "output_type": "stream",
     "text": [
      "Defaulting to user installation because normal site-packages is not writeable\n",
      "Requirement already satisfied: sewar in c:\\users\\kavee\\appdata\\roaming\\python\\python39\\site-packages (0.4.5)\n",
      "Requirement already satisfied: scipy in c:\\programdata\\anaconda3\\lib\\site-packages (from sewar) (1.9.1)\n",
      "Requirement already satisfied: Pillow in c:\\programdata\\anaconda3\\lib\\site-packages (from sewar) (9.2.0)\n",
      "Requirement already satisfied: numpy in c:\\users\\kavee\\appdata\\roaming\\python\\python39\\site-packages (from sewar) (1.24.3)\n"
     ]
    }
   ],
   "source": [
    "!pip install sewar"
   ]
  },
  {
   "cell_type": "code",
   "execution_count": 2,
   "id": "df7ad9e0",
   "metadata": {},
   "outputs": [],
   "source": [
    "from __future__ import print_function, division\n",
    "import numpy as np\n",
    "import scipy.linalg as lin\n",
    "import time\n",
    "import numpy as np\n",
    "from scipy import misc\n",
    "import pylab as plt\n",
    "from skimage import transform\n",
    "from sewar import full_ref"
   ]
  },
  {
   "cell_type": "markdown",
   "id": "53cb2389",
   "metadata": {},
   "source": [
    "### Define All Functions For The Chambolle-Pock Algorithm"
   ]
  },
  {
   "cell_type": "code",
   "execution_count": 3,
   "id": "07603d9a",
   "metadata": {},
   "outputs": [],
   "source": [
    "#soft_thresholding is a helper function that performs soft thresholding on an input array x with a threshold gamma. \n",
    "def soft_thresholding(x, gamma):\n",
    "    return np.maximum(0, 1 - gamma / np.maximum(np.abs(x), 1E-10)) * x\n",
    "\n",
    "\n",
    "#function that takes another proximal operator prox as input and returns a new proximal operator that operates on the dual variable\n",
    "def dual_prox(prox):\n",
    "    return lambda u, sigma: u - sigma * prox(u / sigma, 1 / sigma)"
   ]
  },
  {
   "cell_type": "code",
   "execution_count": 4,
   "id": "b37f5bc9",
   "metadata": {},
   "outputs": [],
   "source": [
    "# maxiter_criterion is a function that checks if the iteration count is less than a specified maximum number of iterations (maxiter). \n",
    "#It is used as a stopping criterion in the optimisation process.\n",
    "def maxiter_criterion(values, iteration, allvecs, fx, maxiter=100):\n",
    "    return iteration < maxiter\n",
    "\n",
    "\n",
    "#Context is a class used to encapsulate the optimisation context. \n",
    "#It contains information such as the stopping criterion, whether to return all iterations, and a callback function for evaluating the objective function\n",
    "class Context(object):\n",
    "    \n",
    "    def __init__(self, criterion=maxiter_criterion,\n",
    "                 full_output=False, retall=False, callback=None, **kwargs):\n",
    "        self.criterion = criterion\n",
    "        if 'maxiter' in kwargs:\n",
    "            self.criterion = lambda v, i, a, f: maxiter_criterion(v, i, a, f, maxiter=kwargs['maxiter'])\n",
    "        self.full_output = full_output\n",
    "        self.retall = retall\n",
    "        self.callback = callback\n",
    "\n",
    "    def execute(self, values, step):\n",
    "        allvecs = [values[0]]\n",
    "        fx = []\n",
    "        iteration = 0\n",
    "        while self.criterion(values, iteration, allvecs, fx):\n",
    "            values = step(*values)\n",
    "            x = values[0]\n",
    "            if self.full_output:\n",
    "                pass\n",
    "            if self.retall:\n",
    "                allvecs.append(x)\n",
    "            if self.callback:\n",
    "                fx.append(self.callback(x))\n",
    "            iteration += 1\n",
    "        return self._output_helper(x, fx, allvecs)\n",
    "\n",
    "    def _output_helper(self, x, fx, allvecs):\n",
    "        if self.full_output:\n",
    "            retlist = x, fx\n",
    "            if self.retall:\n",
    "                retlist += (allvecs,)\n",
    "        else:\n",
    "            retlist = x\n",
    "            if self.retall:\n",
    "                retlist = (x, allvecs)\n",
    "\n",
    "        return retlist\n",
    "\n",
    "\n",
    "defaultContext = Context()"
   ]
  },
  {
   "cell_type": "code",
   "execution_count": 5,
   "id": "ee5a8b75",
   "metadata": {},
   "outputs": [],
   "source": [
    "#The model function is the core of the Chambolle-Pock algorithm. \n",
    "#It takes proximal operators for the data fidelity term (prox_fs), regularisation term (prox_g), an operator K, an initial guess x0, and various parameters. \n",
    "#It uses these components to perform the optimisation\n",
    "def model(prox_fs, prox_g, K, x0, theta=1, sigma=None, tau=None, context=defaultContext):\n",
    "\n",
    "    if isinstance(K, np.ndarray):\n",
    "        op = lambda u: np.dot(K, u)\n",
    "        op.T = lambda u: np.dot(K.T, u)\n",
    "        return model(prox_fs, prox_g, op, x0, theta=theta,\n",
    "                    sigma=sigma, tau=tau, context=context)\n",
    "    if not(sigma and tau):\n",
    "        L = operator_norm(\n",
    "            lambda x: K.T(K(x)),\n",
    "            np.random.randn(x0.shape[0], 1)\n",
    "        )\n",
    "        sigma = 10.0\n",
    "        if sigma * L > 1e-10:\n",
    "            tau = .9 / (sigma * L)\n",
    "        else:\n",
    "            tau = 0.0\n",
    "\n",
    "    x = x0.copy()\n",
    "    x1 = x0.copy()\n",
    "    xold = x0.copy()\n",
    "    y = K(x)\n",
    "\n",
    "    def step(x, x1, xold, y):\n",
    "        xold = x.copy()\n",
    "        y = prox_fs(y + sigma * K(x1), sigma)\n",
    "        x = prox_g(x - tau * K.T(y), tau)\n",
    "        x1 = x + theta * (x - xold)\n",
    "        return [x, x1, xold, y]\n",
    "\n",
    "    return context.execute([x, x1, xold, y], step)"
   ]
  },
  {
   "cell_type": "code",
   "execution_count": 6,
   "id": "b5834697",
   "metadata": {},
   "outputs": [],
   "source": [
    "#operator_norm calculates the operator norm of a given linear operator\n",
    "def operator_norm(linop, n=None, maxiter=30, check=False):\n",
    "    if hasattr(linop, 'norm') and not check:\n",
    "        return linop.norm\n",
    "    if n is None:\n",
    "        n = np.random.randn(linop.dim[1], 1)\n",
    "    if np.size(n) == 1:\n",
    "        u = np.random.randn(n, 1)\n",
    "    else:\n",
    "        u = n\n",
    "    unorm = lin.norm(u)\n",
    "    if unorm > 1e-10:\n",
    "        u = u / unorm\n",
    "    else:\n",
    "        return 0\n",
    "    e = []\n",
    "    for i in range(maxiter):\n",
    "        if hasattr(linop, 'T'):\n",
    "            v = linop.T(linop(u))\n",
    "        else:\n",
    "            # assume square (implicit) operator\n",
    "            v = linop(u)\n",
    "        e.append((u[:] * v[:]).sum())\n",
    "        vnorm = lin.norm(v[:])\n",
    "        if vnorm > 1e-10:\n",
    "            u = v / vnorm\n",
    "        else:\n",
    "            return 0\n",
    "    L = e[-1]\n",
    "    return L"
   ]
  },
  {
   "cell_type": "markdown",
   "id": "cadd00f6",
   "metadata": {},
   "source": [
    "### Import Ground Truth and Noisy Images"
   ]
  },
  {
   "cell_type": "markdown",
   "id": "52e25a6b",
   "metadata": {},
   "source": [
    "NOTE: Make sure the correct filepath is added for the locations of the ground_truth image and noisy_image"
   ]
  },
  {
   "cell_type": "code",
   "execution_count": 7,
   "id": "ba7b0f70",
   "metadata": {},
   "outputs": [],
   "source": [
    "#upload the ground truth image\n",
    "ground_truth = plt.imread(r\"Chambolle_Pock_Algorithm\\Pre_Processed_Images_CP\\Ground_Truth_Image\\ground_truth.jpg\") ###filepath of ground_truth image\n",
    "n = ground_truth.shape[0]\n",
    "\n",
    "#upload the noisy image\n",
    "noisy_image= plt.imread(r\"Chambolle_Pock_Algorithm\\Pre_Processed_Images_CP\\Noisy_Image\\noisy_image.jpeg\") ###filepath of noisy_image"
   ]
  },
  {
   "cell_type": "markdown",
   "id": "7a91e26e",
   "metadata": {},
   "source": [
    "### Test Algorithm On Randomly Selected Alpha Value & Measure Performance"
   ]
  },
  {
   "cell_type": "code",
   "execution_count": 8,
   "id": "eea1ba87",
   "metadata": {},
   "outputs": [],
   "source": [
    "# Regularisation parameter\n",
    "alpha = 20 ###This value can be changed and is used to minimise the loss function\n",
    "\n",
    "# Gradient and divergence with periodic boundaries\n",
    "\n",
    "def gradient(x):\n",
    "    g = np.zeros((x.shape[0], x.shape[1], 2))\n",
    "    g[:, :, 0] = np.roll(x, -1, axis=0) - x\n",
    "    g[:, :, 1] = np.roll(x, -1, axis=1) - x\n",
    "    return g\n",
    "\n",
    "\n",
    "def divergence(p):\n",
    "    px = p[:, :, 0]\n",
    "    py = p[:, :, 1]\n",
    "    resx = px - np.roll(px, 1, axis=0)\n",
    "    resy = py - np.roll(py, 1, axis=1)\n",
    "    return -(resx + resy)\n",
    "\n",
    "# Minimisation of F(K*x) + G(x)\n",
    "K = gradient\n",
    "K.T = divergence\n",
    "amp = lambda u: np.sqrt(np.sum(u ** 2, axis=2))\n",
    "F = lambda u: alpha * np.sum(amp(u))\n",
    "G = lambda x: 1 / 2 * lin.norm(noisy_image - x, 'fro') ** 2\n",
    "\n",
    "# Proximity operators\n",
    "normalize = lambda u: u / np.tile((np.maximum(amp(u), 1e-10))[:, :, np.newaxis],(1, 1, 2))\n",
    "prox_f = lambda u, tau: np.tile(\n",
    "    soft_thresholding(amp(u), alpha * tau)[:, :, np.newaxis],\n",
    "    (1, 1, 2)) * normalize(u)\n",
    "prox_fs = dual_prox(prox_f)\n",
    "prox_g = lambda x, tau: (x + tau * noisy_image) / (1 + tau)\n",
    "\n",
    "ctx = Context(full_output=True, maxiter=300)\n",
    "ctx.callback = lambda x: G(x) + F(K(x))\n",
    "\n",
    "denoised_cp, cx = model(prox_fs, prox_g, K, noisy_image, context=ctx)"
   ]
  },
  {
   "cell_type": "code",
   "execution_count": 9,
   "id": "123024a5",
   "metadata": {},
   "outputs": [
    {
     "data": {
      "text/plain": [
       "(-0.5, 63.5, 63.5, -0.5)"
      ]
     },
     "execution_count": 9,
     "metadata": {},
     "output_type": "execute_result"
    },
    {
     "data": {
      "image/png": "[encoded data removed]",
      "text/plain": [
       "<Figure size 640x480 with 1 Axes>"
      ]
     },
     "metadata": {},
     "output_type": "display_data"
    }
   ],
   "source": [
    "#Where alpha is set to 20 but this may not be the optimal alpha level which produces the highest PNSR value\n",
    "plt.imshow(denoised_cp, cmap='gray')\n",
    "plt.title('Regularisation Parameter: Alpha = 20')\n",
    "plt.axis('off')"
   ]
  },
  {
   "cell_type": "code",
   "execution_count": 11,
   "id": "5c72a128",
   "metadata": {},
   "outputs": [
    {
     "name": "stdout",
     "output_type": "stream",
     "text": [
      "PSNR for Alpha = 20: 25.071735144099016\n"
     ]
    }
   ],
   "source": [
    "#Checking the PSNR value when alpha = 20\n",
    "psnr_denoised_cp=full_ref.psnr(ground_truth,denoised_cp)\n",
    "print('PSNR for Alpha = 20:',psnr_denoised_cp)"
   ]
  },
  {
   "cell_type": "code",
   "execution_count": 12,
   "id": "0980f00b",
   "metadata": {
    "scrolled": true
   },
   "outputs": [
    {
     "name": "stdout",
     "output_type": "stream",
     "text": [
      "SSIM for Alpha = 20: 0.8578323931103968\n"
     ]
    }
   ],
   "source": [
    "#Checking the SSIM value when alpha = 20\n",
    "ssim_denoised_cp,_=full_ref.ssim(ground_truth,denoised_cp)\n",
    "print('SSIM for Alpha = 20:',ssim_denoised_cp)"
   ]
  },
  {
   "cell_type": "markdown",
   "id": "ed33e3c9",
   "metadata": {},
   "source": [
    "### Find The Optimal Alpha Value Using PSNR"
   ]
  },
  {
   "cell_type": "code",
   "execution_count": 13,
   "id": "3456a79c",
   "metadata": {
    "scrolled": false
   },
   "outputs": [
    {
     "name": "stdout",
     "output_type": "stream",
     "text": [
      "Alpha: 1.00, PSNR: 21.0839345 dB\n",
      "Alpha: 1.29, PSNR: 21.2411319 dB\n",
      "Alpha: 1.59, PSNR: 21.3978469 dB\n",
      "Alpha: 1.88, PSNR: 21.5539678 dB\n",
      "Alpha: 2.17, PSNR: 21.7092509 dB\n",
      "Alpha: 2.46, PSNR: 21.8635008 dB\n",
      "Alpha: 2.76, PSNR: 22.0166723 dB\n",
      "Alpha: 3.05, PSNR: 22.1681443 dB\n",
      "Alpha: 3.34, PSNR: 22.3182125 dB\n",
      "Alpha: 3.64, PSNR: 22.4666797 dB\n",
      "Alpha: 3.93, PSNR: 22.6132425 dB\n",
      "Alpha: 4.22, PSNR: 22.7578175 dB\n",
      "Alpha: 4.52, PSNR: 22.9004143 dB\n",
      "Alpha: 4.81, PSNR: 23.0408096 dB\n",
      "Alpha: 5.10, PSNR: 23.1786266 dB\n",
      "Alpha: 5.39, PSNR: 23.3138370 dB\n",
      "Alpha: 5.69, PSNR: 23.4457733 dB\n",
      "Alpha: 5.98, PSNR: 23.5746756 dB\n",
      "Alpha: 6.27, PSNR: 23.7007686 dB\n",
      "Alpha: 6.57, PSNR: 23.8228465 dB\n",
      "Alpha: 6.86, PSNR: 23.9413859 dB\n",
      "Alpha: 7.15, PSNR: 24.0558024 dB\n",
      "Alpha: 7.44, PSNR: 24.1658321 dB\n",
      "Alpha: 7.74, PSNR: 24.2715834 dB\n",
      "Alpha: 8.03, PSNR: 24.3725961 dB\n",
      "Alpha: 8.32, PSNR: 24.4687484 dB\n",
      "Alpha: 8.62, PSNR: 24.5601269 dB\n",
      "Alpha: 8.91, PSNR: 24.6466827 dB\n",
      "Alpha: 9.20, PSNR: 24.7285731 dB\n",
      "Alpha: 9.49, PSNR: 24.8049807 dB\n",
      "Alpha: 9.79, PSNR: 24.8760819 dB\n",
      "Alpha: 10.08, PSNR: 24.9426560 dB\n",
      "Alpha: 10.37, PSNR: 25.0043575 dB\n",
      "Alpha: 10.67, PSNR: 25.0611378 dB\n",
      "Alpha: 10.96, PSNR: 25.1126218 dB\n",
      "Alpha: 11.25, PSNR: 25.1592644 dB\n",
      "Alpha: 11.55, PSNR: 25.2011132 dB\n",
      "Alpha: 11.84, PSNR: 25.2381119 dB\n",
      "Alpha: 12.13, PSNR: 25.2702817 dB\n",
      "Alpha: 12.42, PSNR: 25.2978916 dB\n",
      "Alpha: 12.72, PSNR: 25.3214423 dB\n",
      "Alpha: 13.01, PSNR: 25.3414199 dB\n",
      "Alpha: 13.30, PSNR: 25.3577052 dB\n",
      "Alpha: 13.60, PSNR: 25.3703317 dB\n",
      "Alpha: 13.89, PSNR: 25.3795740 dB\n",
      "Alpha: 14.18, PSNR: 25.3863162 dB\n",
      "Alpha: 14.47, PSNR: 25.3894542 dB\n",
      "Alpha: 14.77, PSNR: 25.3903129 dB\n",
      "Alpha: 15.06, PSNR: 25.3878445 dB\n",
      "Alpha: 15.35, PSNR: 25.3824275 dB\n",
      "Alpha: 15.65, PSNR: 25.3738635 dB\n",
      "Alpha: 15.94, PSNR: 25.3644228 dB\n",
      "Alpha: 16.23, PSNR: 25.3522533 dB\n",
      "Alpha: 16.53, PSNR: 25.3389273 dB\n",
      "Alpha: 16.82, PSNR: 25.3240531 dB\n",
      "Alpha: 17.11, PSNR: 25.3075506 dB\n",
      "Alpha: 17.40, PSNR: 25.2893937 dB\n",
      "Alpha: 17.70, PSNR: 25.2691172 dB\n",
      "Alpha: 17.99, PSNR: 25.2481427 dB\n",
      "Alpha: 18.28, PSNR: 25.2255319 dB\n",
      "Alpha: 18.58, PSNR: 25.2013552 dB\n",
      "Alpha: 18.87, PSNR: 25.1759583 dB\n",
      "Alpha: 19.16, PSNR: 25.1507496 dB\n",
      "Alpha: 19.45, PSNR: 25.1240193 dB\n",
      "Alpha: 19.75, PSNR: 25.0966791 dB\n",
      "Alpha: 20.04, PSNR: 25.0679797 dB\n",
      "Alpha: 20.33, PSNR: 25.0392710 dB\n",
      "Alpha: 20.63, PSNR: 25.0094231 dB\n",
      "Alpha: 20.92, PSNR: 24.9794502 dB\n",
      "Alpha: 21.21, PSNR: 24.9487343 dB\n",
      "Alpha: 21.51, PSNR: 24.9173016 dB\n",
      "Alpha: 21.80, PSNR: 24.8854072 dB\n",
      "Alpha: 22.09, PSNR: 24.8530446 dB\n",
      "Alpha: 22.38, PSNR: 24.8209623 dB\n",
      "Alpha: 22.68, PSNR: 24.7876687 dB\n",
      "Alpha: 22.97, PSNR: 24.7558412 dB\n",
      "Alpha: 23.26, PSNR: 24.7220169 dB\n",
      "Alpha: 23.56, PSNR: 24.6913830 dB\n",
      "Alpha: 23.85, PSNR: 24.6558186 dB\n",
      "Alpha: 24.14, PSNR: 24.6249112 dB\n",
      "Alpha: 24.43, PSNR: 24.5929999 dB\n",
      "Alpha: 24.73, PSNR: 24.5599552 dB\n",
      "Alpha: 25.02, PSNR: 24.5261884 dB\n",
      "Alpha: 25.31, PSNR: 24.4947207 dB\n",
      "Alpha: 25.61, PSNR: 24.4612870 dB\n",
      "Alpha: 25.90, PSNR: 24.4273095 dB\n",
      "Alpha: 26.19, PSNR: 24.3952897 dB\n",
      "Alpha: 26.48, PSNR: 24.3631540 dB\n",
      "Alpha: 26.78, PSNR: 24.3273659 dB\n",
      "Alpha: 27.07, PSNR: 24.2985075 dB\n",
      "Alpha: 27.36, PSNR: 24.2656995 dB\n",
      "Alpha: 27.66, PSNR: 24.2338618 dB\n",
      "Alpha: 27.95, PSNR: 24.2026111 dB\n",
      "Alpha: 28.24, PSNR: 24.1715885 dB\n",
      "Alpha: 28.54, PSNR: 24.1393608 dB\n",
      "Alpha: 28.83, PSNR: 24.1096449 dB\n",
      "Alpha: 29.12, PSNR: 24.0824519 dB\n",
      "Alpha: 29.41, PSNR: 24.0542325 dB\n",
      "Alpha: 29.71, PSNR: 24.0235823 dB\n",
      "Alpha: 30.00, PSNR: 23.9937143 dB\n"
     ]
    },
    {
     "data": {
      "image/png": "[encoded data removed]",
      "text/plain": [
       "<Figure size 640x480 with 1 Axes>"
      ]
     },
     "metadata": {},
     "output_type": "display_data"
    },
    {
     "name": "stdout",
     "output_type": "stream",
     "text": [
      "Most Optimal Alpha: 14.77, PSNR: 25.3903129 dB\n"
     ]
    }
   ],
   "source": [
    "#PSNR performace metric for an iterative process\n",
    "def psnr(original, reconstructed):\n",
    "    psnr = full_ref.psnr(original, reconstructed)\n",
    "    return psnr\n",
    "\n",
    "# Create a range of alpha values\n",
    "alpha_values = np.linspace(1, 30, 100)  ###Generate 100 alpha values from 1 to 30\n",
    "\n",
    "# Create lists to store alpha values and corresponding PSNR values\n",
    "alpha_list = []\n",
    "psnr_list = []\n",
    "optimal_alpha = None\n",
    "optimal_psnr = -np.inf\n",
    "\n",
    "# Loop through alpha values and compute PSNR for each alpha\n",
    "for alpha in alpha_values:\n",
    "    F = lambda u: alpha * np.sum(amp(u))  # Update F with the current alpha value\n",
    "    prox_f = lambda u, tau: np.tile(soft_thresholding(amp(u), alpha * tau)[:, :, np.newaxis], (1, 1, 2)) * normalize(u)\n",
    "    prox_fs = dual_prox(prox_f)\n",
    "    \n",
    "    ctx = Context(full_output=True, maxiter=300)\n",
    "    ctx.callback = lambda x: G(x) + F(K(x))\n",
    "\n",
    "    denoised_cp, cx = model(prox_fs, prox_g, K, noisy_image, context=ctx)\n",
    "\n",
    "    # Calculate PSNR between 'ground_truth' and 'denoised_cp'\n",
    "    psnr_value = psnr(ground_truth, denoised_cp)\n",
    "    \n",
    "    # Store alpha and PSNR values in lists\n",
    "    alpha_list.append(alpha)\n",
    "    psnr_list.append(psnr_value)\n",
    "\n",
    "    # Update optimal alpha and PSNR if current PSNR is higher\n",
    "    if psnr_value > optimal_psnr:\n",
    "        optimal_alpha = alpha\n",
    "        optimal_psnr = psnr_value\n",
    "\n",
    "    print(f\"Alpha: {alpha:.2f}, PSNR: {psnr_value:.7f} dB\")  # Higher precision for PSNR\n",
    "\n",
    "# Plot the alpha values vs. PSNR values using a smooth curve\n",
    "import matplotlib.pyplot as plt\n",
    "\n",
    "plt.plot(alpha_list, psnr_list)\n",
    "plt.xlabel('Alpha')\n",
    "plt.ylabel('PSNR (dB)')\n",
    "plt.title('Alpha vs. PSNR')\n",
    "plt.grid(True)\n",
    "plt.show()\n",
    "\n",
    "# Print the most optimal alpha and its corresponding PSNR value\n",
    "print(f\"Most Optimal Alpha: {optimal_alpha:.2f}, PSNR: {optimal_psnr:.7f} dB\")  # Higher precision for PSNR"
   ]
  },
  {
   "cell_type": "markdown",
   "id": "051777b6",
   "metadata": {},
   "source": [
    "### Run Algorithm Using Optimal Alpha Value To Denoise Noisy Image & Measure Performance"
   ]
  },
  {
   "cell_type": "code",
   "execution_count": 14,
   "id": "f3f8201a",
   "metadata": {},
   "outputs": [
    {
     "data": {
      "image/png": "[encoded data removed]",
      "text/plain": [
       "<Figure size 640x480 with 1 Axes>"
      ]
     },
     "metadata": {},
     "output_type": "display_data"
    },
    {
     "data": {
      "image/png": "[encoded data removed]",
      "text/plain": [
       "<Figure size 1000x500 with 2 Axes>"
      ]
     },
     "metadata": {},
     "output_type": "display_data"
    }
   ],
   "source": [
    "# Use the optimal_alpha to compute the denoised image\n",
    "F_optimal = lambda u: optimal_alpha * np.sum(amp(u))\n",
    "prox_f_optimal = lambda u, tau: np.tile(soft_thresholding(amp(u), optimal_alpha * tau)[:, :, np.newaxis], (1, 1, 2)) * normalize(u)\n",
    "prox_fs_optimal = dual_prox(prox_f_optimal)\n",
    "\n",
    "ctx_optimal = Context(full_output=True, maxiter=300)\n",
    "ctx_optimal.callback = lambda x: G(x) + F_optimal(K(x))\n",
    "\n",
    "denoised_cp_optimal, cx_optimal = model(prox_fs_optimal, prox_g, K, noisy_image, context=ctx_optimal)\n",
    "\n",
    "# Display the denoised image\n",
    "import matplotlib.pyplot as plt\n",
    "\n",
    "#Display ground truth image\n",
    "plt.imshow(ground_truth, cmap='gray')\n",
    "plt.title('Ground Truth')\n",
    "plt.axis('off')\n",
    "\n",
    "#Display noisy image\n",
    "plt.figure(figsize=(10, 5))\n",
    "plt.subplot(1, 2, 1)\n",
    "plt.imshow(noisy_image, cmap='gray')\n",
    "plt.title('Noisy Image')\n",
    "plt.axis('off')\n",
    "\n",
    "#Display denoised image\n",
    "plt.subplot(1, 2, 2)\n",
    "plt.imshow(denoised_cp_optimal, cmap='gray')\n",
    "plt.title('CP Denoised Image')\n",
    "plt.axis('off')\n",
    "\n",
    "plt.show()"
   ]
  },
  {
   "cell_type": "markdown",
   "id": "b9fa7d4f",
   "metadata": {},
   "source": [
    "##### PSNR and SSIM values of noisy_image for comparision"
   ]
  },
  {
   "cell_type": "code",
   "execution_count": 15,
   "id": "fb9510c6",
   "metadata": {},
   "outputs": [
    {
     "name": "stdout",
     "output_type": "stream",
     "text": [
      "PSNR for Noisy Image: 20.545384342141407\n"
     ]
    }
   ],
   "source": [
    "# Peak Signal-to-Noise Ratio between the orignal clean image and noisy Gaussian image for comparision\n",
    "\n",
    "psnr_noisy=full_ref.psnr(ground_truth,noisy_image)\n",
    "print('PSNR for Noisy Image:',psnr_noisy)"
   ]
  },
  {
   "cell_type": "code",
   "execution_count": 16,
   "id": "3240afa2",
   "metadata": {},
   "outputs": [
    {
     "name": "stdout",
     "output_type": "stream",
     "text": [
      "SSIM for Noisy Image: 0.6820513405538043\n"
     ]
    }
   ],
   "source": [
    "# SSIM between the orignal clean image and noisy Gaussian image\n",
    "\n",
    "ssim_noisy,_=full_ref.ssim(ground_truth,noisy_image)\n",
    "print('SSIM for Noisy Image:',ssim_noisy)"
   ]
  },
  {
   "cell_type": "markdown",
   "id": "64643c44",
   "metadata": {},
   "source": [
    "##### PSNR and SSIM values of denoised image"
   ]
  },
  {
   "cell_type": "code",
   "execution_count": 17,
   "id": "06344e64",
   "metadata": {},
   "outputs": [
    {
     "name": "stdout",
     "output_type": "stream",
     "text": [
      "PSNR for Optimal Alpha: 25.39008842152024\n"
     ]
    }
   ],
   "source": [
    "# Peak Signal-to-Noise ratio between the orignal clean image and the optiaml alpha image\n",
    "\n",
    "psnr_optimal=full_ref.psnr(ground_truth,denoised_cp_optimal)\n",
    "print('PSNR for Optimal Alpha:',psnr_optimal)"
   ]
  },
  {
   "cell_type": "code",
   "execution_count": 18,
   "id": "05246e3c",
   "metadata": {},
   "outputs": [
    {
     "name": "stdout",
     "output_type": "stream",
     "text": [
      "SSIM for Optimal Alpha: 0.8697298423826432\n"
     ]
    }
   ],
   "source": [
    "# SSIM between the orignal clean image and noisy Gaussian image\n",
    "\n",
    "ssim_optimal,_=full_ref.ssim(ground_truth,denoised_cp_optimal)\n",
    "print('SSIM for Optimal Alpha:',ssim_optimal)"
   ]
  }
 ],
 "metadata": {
  "kernelspec": {
   "display_name": "Python 3 (ipykernel)",
   "language": "python",
   "name": "python3"
  },
  "language_info": {
   "codemirror_mode": {
    "name": "ipython",
    "version": 3
   },
   "file_extension": ".py",
   "mimetype": "text/x-python",
   "name": "python",
   "nbconvert_exporter": "python",
   "pygments_lexer": "ipython3",
   "version": "3.9.13"
  }
 },
 "nbformat": 4,
 "nbformat_minor": 5
}
