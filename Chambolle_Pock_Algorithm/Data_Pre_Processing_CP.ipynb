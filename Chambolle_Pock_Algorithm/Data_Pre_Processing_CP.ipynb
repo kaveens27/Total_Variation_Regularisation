{
 "cells": [
  {
   "cell_type": "markdown",
   "id": "a643d9ed",
   "metadata": {},
   "source": [
    "# Data Pre-Processing For Chambolle-Pock Algorithm"
   ]
  },
  {
   "cell_type": "markdown",
   "id": "d4450072",
   "metadata": {},
   "source": [
    "Folder Of Sea Turtle Head Images: https://www.kaggle.com/datasets/wildlifedatasets/seaturtleidheads\n",
    "Download this folder of sea turtle heads and the filepath of this folder will be used for the input_image variable in the crop_resize_cp function"
   ]
  },
  {
   "cell_type": "markdown",
   "id": "6014df60",
   "metadata": {},
   "source": [
    "### Import All Necessary Libraries "
   ]
  },
  {
   "cell_type": "code",
   "execution_count": null,
   "id": "62a1b6c7",
   "metadata": {},
   "outputs": [],
   "source": [
    "import os\n",
    "import cv2\n",
    "import numpy as np"
   ]
  },
  {
   "cell_type": "markdown",
   "id": "433216f3",
   "metadata": {},
   "source": [
    "### Resize and Reshape Selected Image To Create Ground Truth Image"
   ]
  },
  {
   "cell_type": "markdown",
   "id": "2167d99b",
   "metadata": {},
   "source": [
    "NOTE: Make sure the filepaths of the unprocessed image and clean ground_truth folder are correct"
   ]
  },
  {
   "cell_type": "code",
   "execution_count": null,
   "id": "458d2089",
   "metadata": {},
   "outputs": [],
   "source": [
    "#Crop, resize and greyscale image to create ground_truth image\n",
    "def crop_resize_cp(image_path, output_folder, target_size):\n",
    "    try:\n",
    "        img = Image.open(image_path)\n",
    "\n",
    "        size = min(img.size)\n",
    "        left = (img.size[0] - size) // 2\n",
    "        top = (img.size[1] - size) // 2\n",
    "        right = left + size\n",
    "        bottom = top + size\n",
    "        img = img.crop((left, top, right, bottom))\n",
    "\n",
    "        img = img.resize((target_size, target_size), Image.ANTIALIAS)\n",
    "\n",
    "        grayscale_img = img.convert(\"L\")\n",
    "\n",
    "        output_filename = \"ground_truth.jpg\"\n",
    "        output_path = os.path.join(output_folder, output_filename)\n",
    "        grayscale_img.save(output_path)\n",
    "\n",
    "        print(f\"Image processed and saved to {output_path}\")\n",
    "    except Exception as e:\n",
    "        print(f\"Error processing {image_path}: {e}\")\n",
    "\n",
    "if __name__ == \"__main__\":\n",
    "    input_image = r\"<filepath of Kaggle folder>\\ZvLoSlLFIz.jpeg\" ###filepath of ZvLoSlLFIz.jpeg located in the Kaggle downloaded image folder\n",
    "    output_folder = r\"Chambolle_Pock_Algorithm\\Pre_Processed_Images_CP\\Ground_Truth_Image\" ###Location where the clean ground_truth image will be saved\n",
    "    target_size = 64\n",
    "\n",
    "    if not os.path.exists(output_folder):\n",
    "        os.makedirs(output_folder)\n",
    "\n",
    "    crop_resize_cp(input_image, output_folder, target_size)"
   ]
  },
  {
   "cell_type": "markdown",
   "id": "c0c663bd",
   "metadata": {},
   "source": [
    "### Add Gaussian Noise To Ground Truth Image To Create Noisy Image"
   ]
  },
  {
   "cell_type": "markdown",
   "id": "eb298943",
   "metadata": {},
   "source": [
    "NOTE: Make sure the files paths for the ground_truth image and noisy folder are correct"
   ]
  },
  {
   "cell_type": "code",
   "execution_count": null,
   "id": "f2b28a43",
   "metadata": {},
   "outputs": [],
   "source": [
    "# Add gaussian noise to ground_truth image to create noisy_image\n",
    "def add_gaussian_noise_cp(image, mean=0, std=25):\n",
    "\n",
    "    noise = np.random.normal(mean, std, size=image.shape)\n",
    "    noisy_image = image + noise\n",
    "    return np.clip(noisy_image, 0, 255).astype(np.uint8)\n",
    "\n",
    "if __name__ == \"__main__\":\n",
    "    input_image_path = r\"Chambolle_Pock_Algorithm\\Pre_Processed_Images_CP\\Ground_Truth_Image\\ground_truth.jpg\" ###Location of the ground_truth image\n",
    "    output_folder_path = r\"Chambolle_Pock_Algorithm\\Pre_Processed_Images_CP\\Noisy_Image\" ###Location where the noisy_image will be saved\n",
    "    \n",
    "    os.makedirs(output_folder_path, exist_ok=True)\n",
    "\n",
    "    image = cv2.imread(input_image_path, cv2.IMREAD_GRAYSCALE)\n",
    "    noisy_image = add_gaussian_noise_cp(image)\n",
    "\n",
    "    output_path = os.path.join(output_folder_path, \"noisy_image.jpg\")\n",
    "    cv2.imwrite(output_path, noisy_image)\n",
    "\n",
    "    print(f\"Noisy image saved to {output_path}\")"
   ]
  }
 ],
 "metadata": {
  "kernelspec": {
   "display_name": "Python 3 (ipykernel)",
   "language": "python",
   "name": "python3"
  },
  "language_info": {
   "codemirror_mode": {
    "name": "ipython",
    "version": 3
   },
   "file_extension": ".py",
   "mimetype": "text/x-python",
   "name": "python",
   "nbconvert_exporter": "python",
   "pygments_lexer": "ipython3",
   "version": "3.9.13"
  }
 },
 "nbformat": 4,
 "nbformat_minor": 5
}
