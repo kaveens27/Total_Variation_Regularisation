{
 "cells": [
  {
   "cell_type": "markdown",
   "id": "ba4bf01c",
   "metadata": {},
   "source": [
    "# Data Pre-Processing For The Combined TV-NN Unrolled Algorithm"
   ]
  },
  {
   "cell_type": "markdown",
   "id": "a55a856f",
   "metadata": {},
   "source": [
    "Folder Of Sea Turtle Head Images: https://www.kaggle.com/datasets/wildlifedatasets/seaturtleidheads. Download this folder of sea turtle heads and the filepath of this folder will be used for the input_folder variable in the crop_resize_tvnn function"
   ]
  },
  {
   "cell_type": "markdown",
   "id": "fe4cb252",
   "metadata": {},
   "source": [
    "### Import All Necessary Libraries"
   ]
  },
  {
   "cell_type": "code",
   "execution_count": null,
   "id": "64c1f8f8",
   "metadata": {},
   "outputs": [],
   "source": [
    "from PIL import Image\n",
    "import os\n",
    "import shutil\n",
    "import cv2\n",
    "import numpy as np"
   ]
  },
  {
   "cell_type": "markdown",
   "id": "8afe9b7d",
   "metadata": {},
   "source": [
    "### Create Ground Truth Training Data By Resizing and Reshaping All Remaining Images"
   ]
  },
  {
   "cell_type": "markdown",
   "id": "8a36c388",
   "metadata": {},
   "source": [
    "NOTE: Make sure the image used in the Chambolle-Pock (which will be used in the testing phase of this model) has been deleted from orignial Kaggle image folder before any pre-processing so that the testing image is not used in the training phase"
   ]
  },
  {
   "cell_type": "markdown",
   "id": "1be72798",
   "metadata": {},
   "source": [
    "NOTE: Make sure the correct filepaths have been added"
   ]
  },
  {
   "cell_type": "code",
   "execution_count": null,
   "id": "a4ee4f04",
   "metadata": {},
   "outputs": [],
   "source": [
    "#Crop, resize and greyscale image to create clean training data\n",
    "def crop_resize_tvnn(input_folder, output_folder, target_size, num_images):\n",
    "    if not os.path.exists(output_folder):\n",
    "        os.makedirs(output_folder)\n",
    "\n",
    "    count = 0\n",
    "\n",
    "    for filename in os.listdir(input_folder):\n",
    "        if count >= num_images:\n",
    "            break\n",
    "\n",
    "        try:\n",
    "            img_path = os.path.join(input_folder, filename)\n",
    "            img = Image.open(img_path)\n",
    "\n",
    "            size = min(img.size)\n",
    "            left = (img.size[0] - size) // 2\n",
    "            top = (img.size[1] - size) // 2\n",
    "            right = left + size\n",
    "            bottom = top + size\n",
    "            img = img.crop((left, top, right, bottom))\n",
    "\n",
    "            img = img.resize((target_size, target_size), Image.ANTIALIAS)\n",
    "\n",
    "            grayscale_img = img.convert(\"L\")\n",
    "\n",
    "            output_filename = f\"{count + 1:04d}.jpg\"\n",
    "            output_path = os.path.join(output_folder, output_filename)\n",
    "            grayscale_img.save(output_path)\n",
    "\n",
    "            count += 1\n",
    "        except Exception as e:\n",
    "            print(f\"Error processing {filename}: {e}\")\n",
    "\n",
    "if __name__ == \"__main__\":\n",
    "    input_folder = r\"<filepath of Kaggle folder>\" ###Location of the Kaggle downloaded image folder (after deleting ZvLoSlLFIz.jpeg)\n",
    "    output_folder = r\"Combined_TVNN_Unrolled_Algorithm\\Pre_Processed_Images_TVNN\\Clean_Training_Images\" ###Location where the clean training data will be saved\n",
    "    target_size = 64 ###Select target image size\n",
    "    num_images = 1000 ### Number of training images\n",
    "\n",
    "    crop_resize_tvnn(input_folder, output_folder, target_size, num_images)"
   ]
  },
  {
   "cell_type": "markdown",
   "id": "5d433e42",
   "metadata": {},
   "source": [
    "### Add Gaussian Noise To Ground Truth Training Dataset To Create Noisy Images Training Dataset"
   ]
  },
  {
   "cell_type": "markdown",
   "id": "4c3ec6de",
   "metadata": {},
   "source": [
    "NOTE: Make sure the correct filepaths have been added"
   ]
  },
  {
   "cell_type": "code",
   "execution_count": null,
   "id": "77ef241c",
   "metadata": {},
   "outputs": [],
   "source": [
    "# add variable levels of Gaussian noise to clean training data to create noisy training data\n",
    "def add_gaussian_noise_tvnn(image, std):\n",
    "    noise = np.random.normal(0, std, size=image.shape)\n",
    "    noisy_image = image + noise\n",
    "    return np.clip(noisy_image, 0, 255).astype(np.uint8)\n",
    "\n",
    "def add_variable_noise_tvnn(input_folder, output_folder):\n",
    "    os.makedirs(output_folder, exist_ok=True)\n",
    "    \n",
    "    sigmas = [3, 10, 25, 50, 100, 125, 150, 175, 200, 215]\n",
    "    num_images = 1000\n",
    "    images_per_sigma = num_images // len(sigmas)\n",
    "    \n",
    "    for i, sigma in enumerate(sigmas):\n",
    "        for j in range(images_per_sigma):\n",
    "            image_number = i * images_per_sigma + j + 1\n",
    "            filename = f\"{image_number:04d}.jpg\"\n",
    "            \n",
    "            image_path = os.path.join(input_folder, filename)\n",
    "            if os.path.exists(image_path):\n",
    "                image = cv2.imread(image_path, cv2.IMREAD_GRAYSCALE)\n",
    "                noisy_image = add_gaussian_noise_tvnn(image, sigma)\n",
    "                output_path = os.path.join(output_folder, filename)\n",
    "                cv2.imwrite(output_path, noisy_image)\n",
    "            else:\n",
    "                pass\n",
    "\n",
    "if __name__ == \"__main__\":\n",
    "    input_folder_path = r\"Combined_TVNN_Unrolled_Algorithm\\Pre_Processed_Images_TVNN\\Clean_Training_Images\" ###Location of the clean training data\n",
    "    output_folder_path = r\"Combined_TVNN_Unrolled_Algorithm\\Pre_Processed_Images_TVNN\\Noisy_Training_Images\" ###Location where the noisy training data will be saved\n",
    "    \n",
    "    add_variable_noise_tvnn(input_folder_path, output_folder_path)"
   ]
  },
  {
   "cell_type": "code",
   "execution_count": null,
   "id": "c05fbb5b",
   "metadata": {},
   "outputs": [],
   "source": []
  }
 ],
 "metadata": {
  "kernelspec": {
   "display_name": "Python 3 (ipykernel)",
   "language": "python",
   "name": "python3"
  },
  "language_info": {
   "codemirror_mode": {
    "name": "ipython",
    "version": 3
   },
   "file_extension": ".py",
   "mimetype": "text/x-python",
   "name": "python",
   "nbconvert_exporter": "python",
   "pygments_lexer": "ipython3",
   "version": "3.9.13"
  }
 },
 "nbformat": 4,
 "nbformat_minor": 5
}
